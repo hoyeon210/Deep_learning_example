{
 "cells": [
  {
   "cell_type": "code",
   "execution_count": 1,
   "id": "08c17228-a36c-42f6-9a46-2a3ad3632abb",
   "metadata": {},
   "outputs": [],
   "source": [
    "from tensorflow.keras.datasets import mnist\n",
    "from tensorflow.keras import utils\n",
    "from tensorflow.keras.models import Sequential\n",
    "from tensorflow.keras.layers import Dense, Dropout, Flatten, Conv2D, MaxPooling2D\n",
    "from tensorflow.keras.callbacks import ModelCheckpoint, EarlyStopping\n",
    "import matplotlib.pyplot as plt\n",
    "import numpy as np\n",
    "import os\n",
    "import tensorflow as tf"
   ]
  },
  {
   "cell_type": "code",
   "execution_count": 2,
   "id": "178dc05a-6a86-4c28-b7be-985394029e7a",
   "metadata": {},
   "outputs": [],
   "source": [
    "(X_train, Y_train), (X_test, Y_test) = mnist.load_data()\n",
    "X_train = X_train.reshape(X_train.shape[0], 28, 28, 1).astype(float) / 255 #차원이 한개 더 필요하므로 마지막에 1추가\n",
    "X_test = X_test.reshape(X_test.shape[0], 28, 28, 1).astype(float) / 255\n",
    "Y_train = utils.to_categorical(Y_train)\n",
    "Y_test = utils.to_categorical(Y_test)"
   ]
  },
  {
   "cell_type": "code",
   "execution_count": 3,
   "id": "fd670ce1-29ac-4432-9fa9-d0b02423c0b8",
   "metadata": {},
   "outputs": [],
   "source": [
    "model = Sequential()\n",
    "model.add(Conv2D(32, kernel_size=(3,3), input_shape=(28,28,1), activation='relu'))\n",
    "model.add(Conv2D(64, kernel_size=(3,3), activation='relu'))\n",
    "model.add(MaxPooling2D(pool_size=2))\n",
    "model.add(Dropout(0.25)) # 25퍼센트를 임의로 끄겠다\n",
    "model.add(Flatten()) #차원 줄이기-1차원으로\n",
    "model.add(Dense(128, activation='relu'))\n",
    "model.add(Dropout(0.5))\n",
    "model.add(Dense(10, activation='softmax'))"
   ]
  },
  {
   "cell_type": "code",
   "execution_count": 4,
   "id": "b8a0a4df-2ee1-49a7-9472-8753de2fed66",
   "metadata": {},
   "outputs": [
    {
     "name": "stdout",
     "output_type": "stream",
     "text": [
      "Model: \"sequential\"\n",
      "_________________________________________________________________\n",
      "Layer (type)                 Output Shape              Param #   \n",
      "=================================================================\n",
      "conv2d (Conv2D)              (None, 26, 26, 32)        320       \n",
      "_________________________________________________________________\n",
      "conv2d_1 (Conv2D)            (None, 24, 24, 64)        18496     \n",
      "_________________________________________________________________\n",
      "max_pooling2d (MaxPooling2D) (None, 12, 12, 64)        0         \n",
      "_________________________________________________________________\n",
      "dropout (Dropout)            (None, 12, 12, 64)        0         \n",
      "_________________________________________________________________\n",
      "flatten (Flatten)            (None, 9216)              0         \n",
      "_________________________________________________________________\n",
      "dense (Dense)                (None, 128)               1179776   \n",
      "_________________________________________________________________\n",
      "dropout_1 (Dropout)          (None, 128)               0         \n",
      "_________________________________________________________________\n",
      "dense_1 (Dense)              (None, 10)                1290      \n",
      "=================================================================\n",
      "Total params: 1,199,882\n",
      "Trainable params: 1,199,882\n",
      "Non-trainable params: 0\n",
      "_________________________________________________________________\n"
     ]
    }
   ],
   "source": [
    "model.summary()"
   ]
  },
  {
   "cell_type": "markdown",
   "id": "3018c201-6a18-4897-b8ee-811de8afbac8",
   "metadata": {},
   "source": [
    "- (9*32) + 32 = 320\n",
    "- (9*32)*64 + 64 = 18496\n",
    "- (9 * 32 * 64)/2*128 + 128 = 1179776\n",
    "- 128*10 + 10 = 1290"
   ]
  },
  {
   "cell_type": "code",
   "execution_count": 5,
   "id": "cf88cca9-5c22-46f0-b76a-248803c02628",
   "metadata": {},
   "outputs": [],
   "source": [
    "model.compile(loss='categorical_crossentropy', optimizer='adam', metrics=['accuracy'])"
   ]
  },
  {
   "cell_type": "code",
   "execution_count": 6,
   "id": "71cae79a-f0e7-49d9-bcd0-7e52332d4062",
   "metadata": {},
   "outputs": [],
   "source": [
    "MODEL_DIR = './model/'\n",
    "if not os.path.exists(MODEL_DIR):\n",
    "    os.mkdir(MODEL_DIR)\n",
    "    \n",
    "modelpath = './model/{epoch:02d}-{val_loss:.4f}.hdf5'\n",
    "checkpointer = ModelCheckpoint(filepath=modelpath, monitor='val_loss', verbose=1, save_best_only=True)\n",
    "\n",
    "early_stopping = EarlyStopping(monitor='val_loss', patience=10)"
   ]
  },
  {
   "cell_type": "code",
   "execution_count": 7,
   "id": "b3245ac7-d392-4816-928f-4e8f00706e1f",
   "metadata": {},
   "outputs": [
    {
     "name": "stdout",
     "output_type": "stream",
     "text": [
      "\n",
      "Epoch 00001: val_loss improved from inf to 0.05213, saving model to ./model\\01-0.0521.hdf5\n",
      "\n",
      "Epoch 00002: val_loss improved from 0.05213 to 0.04063, saving model to ./model\\02-0.0406.hdf5\n",
      "\n",
      "Epoch 00003: val_loss improved from 0.04063 to 0.03334, saving model to ./model\\03-0.0333.hdf5\n",
      "\n",
      "Epoch 00004: val_loss improved from 0.03334 to 0.03134, saving model to ./model\\04-0.0313.hdf5\n",
      "\n",
      "Epoch 00005: val_loss improved from 0.03134 to 0.02756, saving model to ./model\\05-0.0276.hdf5\n",
      "\n",
      "Epoch 00006: val_loss improved from 0.02756 to 0.02629, saving model to ./model\\06-0.0263.hdf5\n",
      "\n",
      "Epoch 00007: val_loss did not improve from 0.02629\n",
      "\n",
      "Epoch 00008: val_loss did not improve from 0.02629\n",
      "\n",
      "Epoch 00009: val_loss did not improve from 0.02629\n",
      "\n",
      "Epoch 00010: val_loss did not improve from 0.02629\n",
      "\n",
      "Epoch 00011: val_loss did not improve from 0.02629\n",
      "\n",
      "Epoch 00012: val_loss did not improve from 0.02629\n",
      "\n",
      "Epoch 00013: val_loss did not improve from 0.02629\n",
      "\n",
      "Epoch 00014: val_loss did not improve from 0.02629\n",
      "\n",
      "Epoch 00015: val_loss did not improve from 0.02629\n",
      "\n",
      "Epoch 00016: val_loss did not improve from 0.02629\n"
     ]
    }
   ],
   "source": [
    "history = model.fit(X_train, Y_train, validation_data=(X_test, Y_test), epochs=30, batch_size=200, verbose=0, callbacks=[early_stopping, checkpointer])"
   ]
  },
  {
   "cell_type": "code",
   "execution_count": 8,
   "id": "236a8cf5-09eb-4d95-b02c-3ba439aaba96",
   "metadata": {},
   "outputs": [
    {
     "name": "stdout",
     "output_type": "stream",
     "text": [
      "313/313 [==============================] - 2s 5ms/step - loss: 0.0270 - accuracy: 0.9930\n",
      "Test Accuracy: 0.9930\n"
     ]
    },
    {
     "data": {
      "image/png": "[encoded data removed]",
      "text/plain": [
       "<Figure size 640x480 with 1 Axes>"
      ]
     },
     "metadata": {},
     "output_type": "display_data"
    }
   ],
   "source": [
    "print(\"Test Accuracy: %.4f\" % (model.evaluate(X_test, Y_test)[1]))\n",
    "\n",
    "y_vloss = history.history['val_loss']\n",
    "y_loss = history.history['loss']\n",
    "\n",
    "x_len = np.arange(len(y_loss))\n",
    "plt.plot(x_len, y_vloss, marker='.', c='red', label='Testset_loss')\n",
    "plt.plot(x_len, y_loss, marker='.', c='blue', label='Trainset_loss')\n",
    "plt.legend(loc='upper right')\n",
    "plt.grid()\n",
    "plt.xlabel('epoch')\n",
    "plt.ylabel('loss')\n",
    "plt.show()"
   ]
  },
  {
   "cell_type": "code",
   "execution_count": null,
   "id": "9f2f7532-e1e9-488f-ac7e-1712099ded1e",
   "metadata": {},
   "outputs": [],
   "source": []
  }
 ],
 "metadata": {
  "kernelspec": {
   "display_name": "Python 3 (ipykernel)",
   "language": "python",
   "name": "python3"
  },
  "language_info": {
   "codemirror_mode": {
    "name": "ipython",
    "version": 3
   },
   "file_extension": ".py",
   "mimetype": "text/x-python",
   "name": "python",
   "nbconvert_exporter": "python",
   "pygments_lexer": "ipython3",
   "version": "3.8.12"
  }
 },
 "nbformat": 4,
 "nbformat_minor": 5
}
