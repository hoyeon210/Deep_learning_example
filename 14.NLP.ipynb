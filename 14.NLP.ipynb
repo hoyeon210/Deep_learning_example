{
 "cells": [
  {
   "cell_type": "code",
   "execution_count": 1,
   "id": "4ac52b24-10c9-4705-b1e6-c4fa502d0e46",
   "metadata": {},
   "outputs": [],
   "source": [
    "#형태소: 의미를 가진 최소한의 단어"
   ]
  },
  {
   "cell_type": "code",
   "execution_count": 3,
   "id": "56b5a7f5-5db8-409d-9040-081ec29ad809",
   "metadata": {},
   "outputs": [],
   "source": [
    "import numpy as np\n",
    "import tensorflow as tf\n",
    "from tensorflow.keras.preprocessing.text import Tokenizer, text_to_word_sequence\n",
    "from tensorflow.keras.preprocessing.sequence import pad_sequences\n",
    "from tensorflow.keras.models import Sequential\n",
    "from tensorflow.keras.layers import Dense, Flatten, Embedding"
   ]
  },
  {
   "cell_type": "code",
   "execution_count": 4,
   "id": "701e4fed-845f-4818-a3bd-c74f1236202e",
   "metadata": {},
   "outputs": [],
   "source": [
    "text = '해보지 않으면 해낼 수 없다'"
   ]
  },
  {
   "cell_type": "code",
   "execution_count": 6,
   "id": "62c12a45-c235-4965-8c2b-703ff68e90ec",
   "metadata": {},
   "outputs": [
    {
     "name": "stdout",
     "output_type": "stream",
     "text": [
      "<원문>\n",
      " 해보지 않으면 해낼 수 없다\n",
      "\n",
      "<토큰화>\n",
      " ['해보지', '않으면', '해낼', '수', '없다']\n"
     ]
    }
   ],
   "source": [
    "result = text_to_word_sequence(text)\n",
    "print(\"<원문>\\n\", text)\n",
    "print(\"\\n<토큰화>\\n\", result)"
   ]
  },
  {
   "cell_type": "code",
   "execution_count": 7,
   "id": "02549288-8f60-45fc-8120-cdb84da3ab6b",
   "metadata": {},
   "outputs": [],
   "source": [
    "docs = ['먼저 텍스트의 각 단어를 나누어 토큰화 합니다.',\n",
    "       '텍스트의 단어로 토큰화 해야 딥러닝에서 인식됩니다.',\n",
    "       '토큰화 한 결과는 딥러닝에서 사용 할 수 있습니다.',\n",
    "       ]"
   ]
  },
  {
   "cell_type": "code",
   "execution_count": 8,
   "id": "130dd8e1-31a6-43e3-b3f9-86500aa21737",
   "metadata": {},
   "outputs": [],
   "source": [
    "token = Tokenizer()\n",
    "token.fit_on_texts(docs)"
   ]
  },
  {
   "cell_type": "code",
   "execution_count": 9,
   "id": "357a066a-671b-4175-b597-0b85964639df",
   "metadata": {},
   "outputs": [
    {
     "name": "stdout",
     "output_type": "stream",
     "text": [
      "<단어 카운트>\n",
      " OrderedDict([('먼저', 1), ('텍스트의', 2), ('각', 1), ('단어를', 1), ('나누어', 1), ('토큰화', 3), ('합니다', 1), ('단어로', 1), ('해야', 1), ('딥러닝에서', 2), ('인식됩니다', 1), ('한', 1), ('결과는', 1), ('사용', 1), ('할', 1), ('수', 1), ('있습니다', 1)])\n"
     ]
    }
   ],
   "source": [
    "print(\"<단어 카운트>\\n\", token.word_counts)"
   ]
  },
  {
   "cell_type": "code",
   "execution_count": 10,
   "id": "56f3e9b3-a0e5-4fbf-ac93-f86ad02fa0d4",
   "metadata": {},
   "outputs": [
    {
     "name": "stdout",
     "output_type": "stream",
     "text": [
      "<문장 카운트>\n",
      " 3\n"
     ]
    }
   ],
   "source": [
    "print(\"<문장 카운트>\\n\", token.document_count)"
   ]
  },
  {
   "cell_type": "code",
   "execution_count": 11,
   "id": "4e673900-dc53-4616-8c70-42e41750bf06",
   "metadata": {},
   "outputs": [
    {
     "name": "stdout",
     "output_type": "stream",
     "text": [
      "<각 단어가 몇 개의 문장에 포함되어 있는가>\n",
      " defaultdict(<class 'int'>, {'나누어': 1, '단어를': 1, '토큰화': 3, '먼저': 1, '각': 1, '텍스트의': 2, '합니다': 1, '인식됩니다': 1, '해야': 1, '딥러닝에서': 2, '단어로': 1, '있습니다': 1, '사용': 1, '결과는': 1, '수': 1, '한': 1, '할': 1})\n"
     ]
    }
   ],
   "source": [
    "print(\"<각 단어가 몇 개의 문장에 포함되어 있는가>\\n\", token.word_docs)"
   ]
  },
  {
   "cell_type": "code",
   "execution_count": 12,
   "id": "e771634a-7c1e-41f7-8bd1-53a6e145f2be",
   "metadata": {},
   "outputs": [
    {
     "name": "stdout",
     "output_type": "stream",
     "text": [
      "<각 단어에 매겨진 인덱스 값>\n",
      " {'토큰화': 1, '텍스트의': 2, '딥러닝에서': 3, '먼저': 4, '각': 5, '단어를': 6, '나누어': 7, '합니다': 8, '단어로': 9, '해야': 10, '인식됩니다': 11, '한': 12, '결과는': 13, '사용': 14, '할': 15, '수': 16, '있습니다': 17}\n"
     ]
    }
   ],
   "source": [
    "print(\"<각 단어에 매겨진 인덱스 값>\\n\", token.word_index)"
   ]
  },
  {
   "cell_type": "code",
   "execution_count": 13,
   "id": "316bd805-4f33-420a-a92e-8edbf6683ef5",
   "metadata": {},
   "outputs": [],
   "source": [
    "#자연어쪽은 인덱스를 0이 아닌 1부터 시작함"
   ]
  },
  {
   "cell_type": "code",
   "execution_count": 14,
   "id": "3dbd1a4b-1b7c-48ee-9f85-1c7b712031ca",
   "metadata": {},
   "outputs": [
    {
     "name": "stdout",
     "output_type": "stream",
     "text": [
      "{'오랫동안': 1, '꿈꾸는': 2, '이는': 3, '그': 4, '꿈을': 5, '닮아간다': 6}\n"
     ]
    }
   ],
   "source": [
    "text= '오랫동안 꿈꾸는 이는 그 꿈을 닮아간다'\n",
    "\n",
    "token = Tokenizer()\n",
    "token.fit_on_texts([text])\n",
    "print(token.word_index)"
   ]
  },
  {
   "cell_type": "code",
   "execution_count": 16,
   "id": "0fc2271e-e253-415e-a298-d44477ca84aa",
   "metadata": {},
   "outputs": [
    {
     "name": "stdout",
     "output_type": "stream",
     "text": [
      "[[1, 2, 3, 4, 5, 6]]\n"
     ]
    }
   ],
   "source": [
    "x = token.texts_to_sequences([text])\n",
    "print(x)"
   ]
  },
  {
   "cell_type": "code",
   "execution_count": 17,
   "id": "a54ef1cd-00c0-40ee-afde-2e2cfdc56c75",
   "metadata": {},
   "outputs": [],
   "source": [
    "word_size = len(token.word_index) +1 #인덱스가 1부터라서 +1 해줘야함\n",
    "x = tf.keras.utils.to_categorical(x, num_classes=word_size)"
   ]
  },
  {
   "cell_type": "code",
   "execution_count": 18,
   "id": "66bf2673-51e1-4e80-b67f-ed0d6800ab16",
   "metadata": {},
   "outputs": [
    {
     "name": "stdout",
     "output_type": "stream",
     "text": [
      "[[[0. 1. 0. 0. 0. 0. 0.]\n",
      "  [0. 0. 1. 0. 0. 0. 0.]\n",
      "  [0. 0. 0. 1. 0. 0. 0.]\n",
      "  [0. 0. 0. 0. 1. 0. 0.]\n",
      "  [0. 0. 0. 0. 0. 1. 0.]\n",
      "  [0. 0. 0. 0. 0. 0. 1.]]]\n"
     ]
    }
   ],
   "source": [
    "print(x)"
   ]
  },
  {
   "cell_type": "markdown",
   "id": "d5e67fa2-336f-42f5-ab17-865ddf17ac7f",
   "metadata": {},
   "source": [
    "### 단어 임베딩\n",
    "- 유사도가 높은 단어끼리 근처에 모아줌\n",
    "- embedding(16,4) 인경우, 16은 전체 단어(인덱스로 바꿔준거), 4는 4차원벡터 크기로 임베딩\n",
    "- input_length-옵션임"
   ]
  },
  {
   "cell_type": "code",
   "execution_count": 19,
   "id": "be07236d-1e86-49b4-9237-b40b876c4964",
   "metadata": {},
   "outputs": [],
   "source": [
    "docs = [\"너무 재밌네요\",\"최고예요\",\"참 잘 만든 영화예요\",\"추천하고 싶은 영화입니다\",\"한번 더 보고싶네요\",\"글쎄요\",\"별로예요\",\"생각보다 지루하네요\",\"연기가 어색해요\",\"재미없어요\"]"
   ]
  },
  {
   "cell_type": "code",
   "execution_count": 20,
   "id": "be843376-b619-4ec4-af6c-845c152089a8",
   "metadata": {},
   "outputs": [],
   "source": [
    "classes = np.array([1,1,1,1,1,0,0,0,0,0,])"
   ]
  },
  {
   "cell_type": "code",
   "execution_count": 21,
   "id": "78fd104f-47f8-4cd5-baee-71b0f1ac8b58",
   "metadata": {},
   "outputs": [
    {
     "name": "stdout",
     "output_type": "stream",
     "text": [
      "{'너무': 1, '재밌네요': 2, '최고예요': 3, '참': 4, '잘': 5, '만든': 6, '영화예요': 7, '추천하고': 8, '싶은': 9, '영화입니다': 10, '한번': 11, '더': 12, '보고싶네요': 13, '글쎄요': 14, '별로예요': 15, '생각보다': 16, '지루하네요': 17, '연기가': 18, '어색해요': 19, '재미없어요': 20}\n"
     ]
    }
   ],
   "source": [
    "token = Tokenizer()\n",
    "token.fit_on_texts(docs)\n",
    "print(token.word_index)"
   ]
  },
  {
   "cell_type": "code",
   "execution_count": 22,
   "id": "8fc552bf-49ed-4c04-b509-1e574340a0d7",
   "metadata": {},
   "outputs": [
    {
     "name": "stdout",
     "output_type": "stream",
     "text": [
      "리뷰 텍스트 토큰화 결과\n",
      " [[1, 2], [3], [4, 5, 6, 7], [8, 9, 10], [11, 12, 13], [14], [15], [16, 17], [18, 19], [20]]\n"
     ]
    }
   ],
   "source": [
    "x = token.texts_to_sequences(docs)\n",
    "print(\"리뷰 텍스트 토큰화 결과\\n\", x)"
   ]
  },
  {
   "cell_type": "code",
   "execution_count": 23,
   "id": "e9a2a598-cf5c-45b3-9e3d-523f47ad460a",
   "metadata": {},
   "outputs": [],
   "source": [
    "# 고정 길이로 맞춰줌: padded\n",
    "# 문장이 짧은 경우는 제일 긴거에 맞추기도 하지만, 내용을 자르기도함"
   ]
  },
  {
   "cell_type": "code",
   "execution_count": 25,
   "id": "699cd2c8-ebdb-40ce-9e57-ec249ae2cdb7",
   "metadata": {},
   "outputs": [
    {
     "name": "stdout",
     "output_type": "stream",
     "text": [
      "패딩 결과\n",
      " [[ 0  0  1  2]\n",
      " [ 0  0  0  3]\n",
      " [ 4  5  6  7]\n",
      " [ 0  8  9 10]\n",
      " [ 0 11 12 13]\n",
      " [ 0  0  0 14]\n",
      " [ 0  0  0 15]\n",
      " [ 0  0 16 17]\n",
      " [ 0  0 18 19]\n",
      " [ 0  0  0 20]]\n"
     ]
    }
   ],
   "source": [
    "padded_x = pad_sequences(x, 4)\n",
    "print(\"패딩 결과\\n\", padded_x)"
   ]
  },
  {
   "cell_type": "code",
   "execution_count": 26,
   "id": "a2a1f6d5-148f-4dc0-9aea-7c41ca3777ed",
   "metadata": {},
   "outputs": [],
   "source": [
    "word_size = len(token.word_index) + 1"
   ]
  },
  {
   "cell_type": "code",
   "execution_count": 27,
   "id": "c8402074-b879-488b-b543-adb0d5de2ee7",
   "metadata": {},
   "outputs": [],
   "source": [
    "model = Sequential()\n",
    "model.add(Embedding(word_size, 8, input_length=4))\n",
    "model.add(Flatten())\n",
    "model.add(Dense(1, activation='sigmoid'))"
   ]
  },
  {
   "cell_type": "code",
   "execution_count": 28,
   "id": "ea6be0af-f13c-44be-b87e-205a972e6367",
   "metadata": {},
   "outputs": [
    {
     "name": "stdout",
     "output_type": "stream",
     "text": [
      "Model: \"sequential\"\n",
      "_________________________________________________________________\n",
      "Layer (type)                 Output Shape              Param #   \n",
      "=================================================================\n",
      "embedding (Embedding)        (None, 4, 8)              168       \n",
      "_________________________________________________________________\n",
      "flatten (Flatten)            (None, 32)                0         \n",
      "_________________________________________________________________\n",
      "dense (Dense)                (None, 1)                 33        \n",
      "=================================================================\n",
      "Total params: 201\n",
      "Trainable params: 201\n",
      "Non-trainable params: 0\n",
      "_________________________________________________________________\n"
     ]
    }
   ],
   "source": [
    "model.summary()"
   ]
  },
  {
   "cell_type": "code",
   "execution_count": 29,
   "id": "922f4397-0c64-4d2a-a8ac-51f30a5514c4",
   "metadata": {},
   "outputs": [],
   "source": [
    "21*8 = 168\n",
    "#(4*8)*1+1 =33"
   ]
  },
  {
   "cell_type": "code",
   "execution_count": 33,
   "id": "51dab619-f897-41a8-9f65-48935e73d011",
   "metadata": {},
   "outputs": [
    {
     "name": "stdout",
     "output_type": "stream",
     "text": [
      "Epoch 1/20\n",
      "1/1 [==============================] - 0s 0s/step - loss: 0.6886 - accuracy: 0.6000\n",
      "Epoch 2/20\n",
      "1/1 [==============================] - 0s 0s/step - loss: 0.6865 - accuracy: 0.7000\n",
      "Epoch 3/20\n",
      "1/1 [==============================] - 0s 0s/step - loss: 0.6844 - accuracy: 0.7000\n",
      "Epoch 4/20\n",
      "1/1 [==============================] - 0s 10ms/step - loss: 0.6823 - accuracy: 0.7000\n",
      "Epoch 5/20\n",
      "1/1 [==============================] - 0s 996us/step - loss: 0.6802 - accuracy: 0.8000\n",
      "Epoch 6/20\n",
      "1/1 [==============================] - 0s 998us/step - loss: 0.6781 - accuracy: 0.8000\n",
      "Epoch 7/20\n",
      "1/1 [==============================] - 0s 998us/step - loss: 0.6760 - accuracy: 0.8000\n",
      "Epoch 8/20\n",
      "1/1 [==============================] - 0s 0s/step - loss: 0.6738 - accuracy: 0.8000\n",
      "Epoch 9/20\n",
      "1/1 [==============================] - 0s 998us/step - loss: 0.6717 - accuracy: 0.8000\n",
      "Epoch 10/20\n",
      "1/1 [==============================] - 0s 999us/step - loss: 0.6696 - accuracy: 0.8000\n",
      "Epoch 11/20\n",
      "1/1 [==============================] - 0s 998us/step - loss: 0.6675 - accuracy: 0.8000\n",
      "Epoch 12/20\n",
      "1/1 [==============================] - 0s 2ms/step - loss: 0.6653 - accuracy: 0.8000\n",
      "Epoch 13/20\n",
      "1/1 [==============================] - 0s 997us/step - loss: 0.6632 - accuracy: 0.8000\n",
      "Epoch 14/20\n",
      "1/1 [==============================] - 0s 1ms/step - loss: 0.6610 - accuracy: 0.8000\n",
      "Epoch 15/20\n",
      "1/1 [==============================] - 0s 2ms/step - loss: 0.6588 - accuracy: 0.8000\n",
      "Epoch 16/20\n",
      "1/1 [==============================] - 0s 997us/step - loss: 0.6567 - accuracy: 0.8000\n",
      "Epoch 17/20\n",
      "1/1 [==============================] - 0s 997us/step - loss: 0.6545 - accuracy: 0.8000\n",
      "Epoch 18/20\n",
      "1/1 [==============================] - 0s 997us/step - loss: 0.6523 - accuracy: 0.8000\n",
      "Epoch 19/20\n",
      "1/1 [==============================] - 0s 997us/step - loss: 0.6501 - accuracy: 0.8000\n",
      "Epoch 20/20\n",
      "1/1 [==============================] - 0s 998us/step - loss: 0.6479 - accuracy: 0.8000\n"
     ]
    },
    {
     "data": {
      "text/plain": [
       "<tensorflow.python.keras.callbacks.History at 0x22b6fcec5b0>"
      ]
     },
     "execution_count": 33,
     "metadata": {},
     "output_type": "execute_result"
    }
   ],
   "source": [
    "model.compile(loss='binary_crossentropy', optimizer='adam', metrics=['accuracy'])\n",
    "model.fit(padded_x, classes, epochs=20)              "
   ]
  },
  {
   "cell_type": "code",
   "execution_count": 34,
   "id": "56da5c89-5572-446a-bdb1-b7109cd5cce6",
   "metadata": {},
   "outputs": [
    {
     "name": "stdout",
     "output_type": "stream",
     "text": [
      "1/1 [==============================] - 0s 1ms/step - loss: 0.6456 - accuracy: 0.8000\n",
      "Accuracy: 0.8000\n"
     ]
    }
   ],
   "source": [
    "print(\"Accuracy: %.4f\" % (model.evaluate(padded_x, classes)[1]))"
   ]
  },
  {
   "cell_type": "markdown",
   "id": "719d1fdd-d212-4c57-a8f1-632af248b9a3",
   "metadata": {},
   "source": []
  },
  {
   "cell_type": "code",
   "execution_count": null,
   "id": "308bf13c-d981-4409-9715-b21b57c40de1",
   "metadata": {},
   "outputs": [],
   "source": []
  }
 ],
 "metadata": {
  "kernelspec": {
   "display_name": "Python 3 (ipykernel)",
   "language": "python",
   "name": "python3"
  },
  "language_info": {
   "codemirror_mode": {
    "name": "ipython",
    "version": 3
   },
   "file_extension": ".py",
   "mimetype": "text/x-python",
   "name": "python",
   "nbconvert_exporter": "python",
   "pygments_lexer": "ipython3",
   "version": "3.8.12"
  }
 },
 "nbformat": 4,
 "nbformat_minor": 5
}
