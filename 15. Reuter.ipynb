{
 "cells": [
  {
   "cell_type": "markdown",
   "id": "011bb8c1-568a-4327-9b23-3c2a81054915",
   "metadata": {},
   "source": [
    "### 시계열 데이터\n",
    "- 순서가 있는 데이터(ex: 언어)\n",
    "- 기존의 독립적인 신경망으로는 효율적이지 않음\n",
    "- RNN 방법 고안\n",
    "- 앞서 받은 데이터를 잠시 기억해놨다가 중요도를 판단하여 별도 가중치를 줘서 다음데이터로 넘김\n",
    "- 층이 여러단계를 하다보면 기울기를 계속 반영하다보면 기울기가 작아져서 소실될수있음\n",
    "- 쓸데없는 미사여구까지 계산할 수 있음\n",
    "- LSTM 방법 고안됨\n",
    "- https://dgkim5360.tistory.com/entry/understanding-long-short-term-memory-lstm-kr"
   ]
  },
  {
   "cell_type": "code",
   "execution_count": 1,
   "id": "28adf417-ea41-4106-8341-4a7122083a78",
   "metadata": {},
   "outputs": [],
   "source": [
    "import numpy as np\n",
    "import tensorflow as tf\n",
    "import matplotlib.pyplot as plt\n",
    "from tensorflow.keras.datasets import reuters\n",
    "from tensorflow.keras.models import Sequential\n",
    "from tensorflow.keras.layers import Dense, LSTM, Embedding\n",
    "from tensorflow.keras.preprocessing import sequence\n",
    "from tensorflow.keras import utils"
   ]
  },
  {
   "cell_type": "code",
   "execution_count": 2,
   "id": "e851a561-a24e-47c5-8d26-7385861fcdb0",
   "metadata": {},
   "outputs": [
    {
     "name": "stderr",
     "output_type": "stream",
     "text": [
      "C:\\Users\\Administrator\\anaconda3\\envs\\hy-env\\lib\\site-packages\\tensorflow\\python\\keras\\datasets\\reuters.py:148: VisibleDeprecationWarning: Creating an ndarray from ragged nested sequences (which is a list-or-tuple of lists-or-tuples-or ndarrays with different lengths or shapes) is deprecated. If you meant to do this, you must specify 'dtype=object' when creating the ndarray\n",
      "  x_train, y_train = np.array(xs[:idx]), np.array(labels[:idx])\n",
      "C:\\Users\\Administrator\\anaconda3\\envs\\hy-env\\lib\\site-packages\\tensorflow\\python\\keras\\datasets\\reuters.py:149: VisibleDeprecationWarning: Creating an ndarray from ragged nested sequences (which is a list-or-tuple of lists-or-tuples-or ndarrays with different lengths or shapes) is deprecated. If you meant to do this, you must specify 'dtype=object' when creating the ndarray\n",
      "  x_test, y_test = np.array(xs[idx:]), np.array(labels[idx:])\n"
     ]
    }
   ],
   "source": [
    "(X_train, Y_train), (X_test, Y_test) = reuters.load_data(num_words=1000, test_split=0.2)\n",
    "#빈도수가 1~1000번인것만 씀, 그 이상은 쓰지 않음\n",
    "#테스트셋으로 20%주기"
   ]
  },
  {
   "cell_type": "code",
   "execution_count": 3,
   "id": "ee0037e2-4d46-45e9-8e22-146d4001d512",
   "metadata": {},
   "outputs": [
    {
     "name": "stdout",
     "output_type": "stream",
     "text": [
      "46 카테고리\n",
      "8982 학습용 뉴스 기사\n",
      "2246 테스트용 뉴스 기사\n",
      "[1, 2, 2, 8, 43, 10, 447, 5, 25, 207, 270, 5, 2, 111, 16, 369, 186, 90, 67, 7, 89, 5, 19, 102, 6, 19, 124, 15, 90, 67, 84, 22, 482, 26, 7, 48, 4, 49, 8, 864, 39, 209, 154, 6, 151, 6, 83, 11, 15, 22, 155, 11, 15, 7, 48, 9, 2, 2, 504, 6, 258, 6, 272, 11, 15, 22, 134, 44, 11, 15, 16, 8, 197, 2, 90, 67, 52, 29, 209, 30, 32, 132, 6, 109, 15, 17, 12]\n"
     ]
    }
   ],
   "source": [
    "category = np.max(Y_train) + 1\n",
    "print(category, '카테고리')\n",
    "print(len(X_train), '학습용 뉴스 기사')\n",
    "print(len(X_test), '테스트용 뉴스 기사')\n",
    "print(X_train[0])"
   ]
  },
  {
   "cell_type": "code",
   "execution_count": 4,
   "id": "66d85983-7729-41ec-942b-4377c13d9812",
   "metadata": {},
   "outputs": [],
   "source": [
    "x_train = sequence.pad_sequences(X_train, maxlen=100)\n",
    "x_test = sequence.pad_sequences(X_test, maxlen=100)\n",
    "y_train = utils.to_categorical(Y_train)\n",
    "y_test = utils.to_categorical(Y_test)"
   ]
  },
  {
   "cell_type": "code",
   "execution_count": 5,
   "id": "039557e5-f374-41e5-8bd1-07d1f73573a2",
   "metadata": {},
   "outputs": [],
   "source": [
    "model = Sequential()\n",
    "model.add(Embedding(1000,100))\n",
    "model.add(LSTM(100, activation='tanh'))\n",
    "model.add(Dense(46, activation='softmax'))"
   ]
  },
  {
   "cell_type": "code",
   "execution_count": 6,
   "id": "5f4360c1-bdc4-4182-99b6-f33bf45cd48d",
   "metadata": {},
   "outputs": [
    {
     "name": "stdout",
     "output_type": "stream",
     "text": [
      "Model: \"sequential\"\n",
      "_________________________________________________________________\n",
      "Layer (type)                 Output Shape              Param #   \n",
      "=================================================================\n",
      "embedding (Embedding)        (None, None, 100)         100000    \n",
      "_________________________________________________________________\n",
      "lstm (LSTM)                  (None, 100)               80400     \n",
      "_________________________________________________________________\n",
      "dense (Dense)                (None, 46)                4646      \n",
      "=================================================================\n",
      "Total params: 185,046\n",
      "Trainable params: 185,046\n",
      "Non-trainable params: 0\n",
      "_________________________________________________________________\n"
     ]
    }
   ],
   "source": [
    "model.summary()"
   ]
  },
  {
   "cell_type": "code",
   "execution_count": 8,
   "id": "c0b25d2a-c1ce-4241-a34e-c4837a071224",
   "metadata": {},
   "outputs": [],
   "source": [
    "model.compile(loss='categorical_crossentropy', optimizer='adam', metrics=['accuracy'])"
   ]
  },
  {
   "cell_type": "code",
   "execution_count": 10,
   "id": "6271c9e3-86aa-483e-af41-ae1855c55787",
   "metadata": {},
   "outputs": [
    {
     "name": "stdout",
     "output_type": "stream",
     "text": [
      "Epoch 1/20\n",
      "90/90 [==============================] - 9s 102ms/step - loss: 2.5852 - accuracy: 0.3466 - val_loss: 2.3802 - val_accuracy: 0.3620\n",
      "Epoch 2/20\n",
      "90/90 [==============================] - 8s 93ms/step - loss: 2.1076 - accuracy: 0.4761 - val_loss: 2.0126 - val_accuracy: 0.5147\n",
      "Epoch 3/20\n",
      "90/90 [==============================] - 8s 91ms/step - loss: 2.0597 - accuracy: 0.4703 - val_loss: 2.0449 - val_accuracy: 0.4902\n",
      "Epoch 4/20\n",
      "90/90 [==============================] - 8s 94ms/step - loss: 1.9616 - accuracy: 0.4930 - val_loss: 1.8982 - val_accuracy: 0.5013\n",
      "Epoch 5/20\n",
      "90/90 [==============================] - 9s 96ms/step - loss: 1.7621 - accuracy: 0.5404 - val_loss: 1.7243 - val_accuracy: 0.5570\n",
      "Epoch 6/20\n",
      "90/90 [==============================] - 8s 93ms/step - loss: 1.6718 - accuracy: 0.5625 - val_loss: 1.6952 - val_accuracy: 0.5623\n",
      "Epoch 7/20\n",
      "90/90 [==============================] - 9s 95ms/step - loss: 1.5863 - accuracy: 0.5952 - val_loss: 1.5922 - val_accuracy: 0.6051\n",
      "Epoch 8/20\n",
      "90/90 [==============================] - 8s 88ms/step - loss: 1.5083 - accuracy: 0.6168 - val_loss: 1.5458 - val_accuracy: 0.6144\n",
      "Epoch 9/20\n",
      "90/90 [==============================] - 8s 90ms/step - loss: 1.4124 - accuracy: 0.6354 - val_loss: 1.4600 - val_accuracy: 0.6371\n",
      "Epoch 10/20\n",
      "90/90 [==============================] - 8s 89ms/step - loss: 1.3425 - accuracy: 0.6575 - val_loss: 1.4761 - val_accuracy: 0.6376\n",
      "Epoch 11/20\n",
      "90/90 [==============================] - 8s 89ms/step - loss: 1.2794 - accuracy: 0.6740 - val_loss: 1.4307 - val_accuracy: 0.6336\n",
      "Epoch 12/20\n",
      "90/90 [==============================] - 8s 89ms/step - loss: 1.2108 - accuracy: 0.6934 - val_loss: 1.3493 - val_accuracy: 0.6607\n",
      "Epoch 13/20\n",
      "90/90 [==============================] - 8s 89ms/step - loss: 1.1497 - accuracy: 0.7073 - val_loss: 1.3132 - val_accuracy: 0.6723\n",
      "Epoch 14/20\n",
      "90/90 [==============================] - 8s 89ms/step - loss: 1.0875 - accuracy: 0.7275 - val_loss: 1.2912 - val_accuracy: 0.6759\n",
      "Epoch 15/20\n",
      "90/90 [==============================] - 8s 88ms/step - loss: 1.0534 - accuracy: 0.7341 - val_loss: 1.2389 - val_accuracy: 0.6897\n",
      "Epoch 16/20\n",
      "90/90 [==============================] - 8s 89ms/step - loss: 1.0015 - accuracy: 0.7484 - val_loss: 1.2323 - val_accuracy: 0.6923\n",
      "Epoch 17/20\n",
      "90/90 [==============================] - 8s 89ms/step - loss: 0.9526 - accuracy: 0.7630 - val_loss: 1.2343 - val_accuracy: 0.6919\n",
      "Epoch 18/20\n",
      "90/90 [==============================] - 8s 89ms/step - loss: 0.9027 - accuracy: 0.7750 - val_loss: 1.2059 - val_accuracy: 0.6990\n",
      "Epoch 19/20\n",
      "90/90 [==============================] - 8s 88ms/step - loss: 0.8587 - accuracy: 0.7857 - val_loss: 1.1777 - val_accuracy: 0.7079\n",
      "Epoch 20/20\n",
      "90/90 [==============================] - 8s 89ms/step - loss: 0.8295 - accuracy: 0.7937 - val_loss: 1.1970 - val_accuracy: 0.7053\n"
     ]
    }
   ],
   "source": [
    "history = model.fit(x_train, y_train, batch_size=100, epochs=20, validation_data=(x_test, y_test))"
   ]
  },
  {
   "cell_type": "code",
   "execution_count": 11,
   "id": "0a8c9f64-64fa-41c8-a8f8-6e856b5f9fbe",
   "metadata": {},
   "outputs": [
    {
     "name": "stdout",
     "output_type": "stream",
     "text": [
      "71/71 [==============================] - 1s 16ms/step - loss: 1.1970 - accuracy: 0.7053\n",
      "Test Accuracy: 0.7053\n"
     ]
    }
   ],
   "source": [
    "print(\"Test Accuracy: %.4f\" % (model.evaluate(x_test, y_test)[1]))"
   ]
  },
  {
   "cell_type": "code",
   "execution_count": 12,
   "id": "9238ef9f-94a9-4669-b6e3-d69a9a0d3bb6",
   "metadata": {},
   "outputs": [
    {
     "data": {
      "image/png": "[encoded data removed]",
      "text/plain": [
       "<Figure size 432x288 with 1 Axes>"
      ]
     },
     "metadata": {
      "needs_background": "light"
     },
     "output_type": "display_data"
    }
   ],
   "source": [
    "y_vloss = history.history['val_loss']\n",
    "y_loss = history.history['loss']\n",
    "x_len = np.arange(len(y_loss))\n",
    "plt.plot(x_len, y_vloss, marker='.', c='red', label='Testset_loss')\n",
    "plt.plot(x_len, y_loss, marker='.', c='blue', label='Trainset_loss')\n",
    "plt.legend(loc='upper right')\n",
    "plt.grid()\n",
    "plt.xlabel('epoch')\n",
    "plt.ylabel('loss')\n",
    "plt.show()"
   ]
  },
  {
   "cell_type": "code",
   "execution_count": null,
   "id": "738075a0-04c4-40c3-8b3e-143723cd5074",
   "metadata": {},
   "outputs": [],
   "source": []
  }
 ],
 "metadata": {
  "kernelspec": {
   "display_name": "Python 3 (ipykernel)",
   "language": "python",
   "name": "python3"
  },
  "language_info": {
   "codemirror_mode": {
    "name": "ipython",
    "version": 3
   },
   "file_extension": ".py",
   "mimetype": "text/x-python",
   "name": "python",
   "nbconvert_exporter": "python",
   "pygments_lexer": "ipython3",
   "version": "3.8.12"
  }
 },
 "nbformat": 4,
 "nbformat_minor": 5
}
